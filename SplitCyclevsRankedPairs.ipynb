{
 "cells": [
  {
   "cell_type": "code",
   "execution_count": 1,
   "metadata": {},
   "outputs": [],
   "source": [
    "%load_ext autoreload\n",
    "%autoreload 2"
   ]
  },
  {
   "cell_type": "code",
   "execution_count": 2,
   "metadata": {},
   "outputs": [],
   "source": [
    "from itertools import product, combinations\n",
    "import matplotlib.pyplot as plt\n",
    "import networkx as nx\n",
    "from IPython.display import display, Math"
   ]
  },
  {
   "cell_type": "code",
   "execution_count": 3,
   "metadata": {},
   "outputs": [],
   "source": [
    "# import code for representing profiles\n",
    "from voting.profile_optimized import *\n",
    "from voting.voting_methods_for_optimized import *\n",
    "from voting.voting_methods_split_cycle import *\n",
    "from generate_profiles import *\n",
    "\n",
    "# display winners of a voting metho\n",
    "def display_winners(vm, prof):\n",
    "    print  \"{} winners: {}\".format(vm.__doc__, \"{\" + \", \".join([prof.cname(_) for _ in vm(prof)]) + \"}\")\n",
    "\n",
    "# define some variables to simplify notation \n",
    "a=0\n",
    "b=1\n",
    "c=2\n",
    "d=3\n",
    "e=4\n",
    "f=5\n",
    "\n",
    "# candidate names are integers\n",
    "cand_names_3 = [a,b,c]\n",
    "cand_names_4 = [a,b,c,d]\n",
    "cand_names_5 = [a,b,c,d,e]\n",
    "cand_names_5 = [a,b,c,d,e,f]\n",
    "\n",
    "# map candidate names to letters to match the notation in our papaer\n",
    "cmap_abc = {a:\"a\", b:\"b\", c:\"c\"}\n",
    "cmap_abcd = {a:\"a\", b:\"b\", c:\"c\", d:\"d\"}\n",
    "cmap_abcde = {a:\"a\", b:\"b\", c:\"c\", d:\"d\", e:\"e\"}\n",
    "cmap_abcdef = {a:\"a\", b:\"b\", c:\"c\", d:\"d\", e:\"e\", f:\"f\"}\n"
   ]
  },
  {
   "cell_type": "code",
   "execution_count": 4,
   "metadata": {},
   "outputs": [],
   "source": [
    "# generate and display the margin graph\n",
    "def display_margin_graph(prof): \n",
    "    # create marging graph\n",
    "    mg = nx.DiGraph()\n",
    "    mg.add_nodes_from([prof.cname(_) for _ in sorted(prof.candidates)])\n",
    "    mg.add_weighted_edges_from([(prof.cname(c1),prof.cname(c2),prof.support(c1,c2) - prof.support(c2,c1))  \n",
    "           for c1 in prof.candidates \n",
    "           for c2 in prof.candidates if c1 != c2 if prof.support(c1,c2) - prof.support(c2,c1) > 0])\n",
    "\n",
    "    pos = nx.circular_layout(mg)\n",
    "    nx.draw(mg, pos, font_size=20, node_color='blue', font_color='white',node_size=700, width=1, lw=1.5, with_labels=True)\n",
    "    labels = nx.get_edge_attributes(mg,'weight')\n",
    "    nx.draw_networkx_edge_labels(mg,pos,edge_labels=labels, label_pos=0.3)\n",
    "\n",
    "    #nx.draw(mg)\n",
    "    plt.title(\"Margin Graph\")\n",
    "    plt.show()\n"
   ]
  },
  {
   "cell_type": "code",
   "execution_count": 5,
   "metadata": {},
   "outputs": [
    {
     "name": "stdout",
     "output_type": "stream",
     "text": [
      "Split Cycle (faster)\n",
      "Ranked Pairs\n"
     ]
    }
   ],
   "source": [
    "print splitcycle_faster.__doc__\n",
    "print ranked_pairs.__doc__"
   ]
  },
  {
   "cell_type": "code",
   "execution_count": null,
   "metadata": {},
   "outputs": [],
   "source": []
  },
  {
   "cell_type": "code",
   "execution_count": 6,
   "metadata": {},
   "outputs": [
    {
     "name": "stdout",
     "output_type": "stream",
     "text": [
      "\n",
      " voters: 101, cands: 5\n",
      "done generating profiles....\n",
      "\n",
      " voters: 501, cands: 5\n",
      "done generating profiles....\n",
      "\n",
      " voters: 1001, cands: 5\n",
      "done generating profiles....\n",
      "done.\n",
      "num diff is  1029\n",
      "num rp subset sc  1029\n"
     ]
    }
   ],
   "source": [
    "num_profiles = 10000\n",
    "\n",
    "number_of_voters = [101, 501, 1001] #6, 7, 9, 25, 30] #, 101, 1001]\n",
    "\n",
    "phis = [1.0]\n",
    "number_of_cands = [5] #5, 6, 7, 8]  \n",
    "\n",
    "\n",
    "voting_situations = list(itertools.product(number_of_voters, number_of_cands))\n",
    "rp_subset_sc_profs = list()\n",
    "sc_subset_rp_profs = list()\n",
    "just_diff = list()\n",
    "num_diff = 0\n",
    "num_rp_subset_sc = 0\n",
    "\n",
    "voting_methods = [ ranked_pairs, splitcycle_faster]\n",
    "for vs in voting_situations:\n",
    "    print \"\\n voters: {}, cands: {}\".format(vs[0], vs[1])\n",
    "    num_voters = vs[0]\n",
    "    num_cands = vs[1]\n",
    "    \n",
    "    cand_names, voter_names = generate_names_opt(num_cands, num_voters)\n",
    "\n",
    "    cmap = generate_candidate_maps(cand_names)\n",
    "\n",
    "    num_cands = len(cand_names)\n",
    "    num_voters = len(voter_names)\n",
    "\n",
    "    for phi in phis:\n",
    "        profiles = [create_prof_opt_mallows(num_voters, cmap, phi) for _ in range(num_profiles)]\n",
    "\n",
    "        print \"done generating profiles....\"\n",
    "        for _prof in profiles:\n",
    "            prof = ProfileOpt(_prof, cand_names, voter_names)\n",
    "            rp_winners = ranked_pairs(prof)\n",
    "            sc_winners = splitcycle_faster(prof)\n",
    "            \n",
    "            if rp_winners != sc_winners: \n",
    "                num_diff += 1\n",
    "                if set(rp_winners).issubset(set(sc_winners)):\n",
    "                    num_rp_subset_sc +=1\n",
    "                    rp_subset_sc_profs.append(prof)\n",
    "                elif set(sc_winners).issubset(set(rp_winners)):\n",
    "                    print \"FOUND ONE!!!\"\n",
    "                    prof.display_anon()\n",
    "                    sc_subset_rp_profs.append(prof)\n",
    "                else:\n",
    "                    print \"WOW: just different\"\n",
    "                    prof.display_anon()\n",
    "                    print \"RP \", rp_winners\n",
    "                    print \"SC \", sc_winners\n",
    "                    just_diff.append(prof)\n",
    "                    \n",
    "            \n",
    "print(\"done.\")\n",
    "\n",
    "print \"num diff is \", num_diff\n",
    "print \"num rp subset sc \", num_rp_subset_sc"
   ]
  },
  {
   "cell_type": "code",
   "execution_count": null,
   "metadata": {},
   "outputs": [],
   "source": []
  },
  {
   "cell_type": "code",
   "execution_count": null,
   "metadata": {},
   "outputs": [],
   "source": []
  }
 ],
 "metadata": {
  "kernelspec": {
   "display_name": "Python 2",
   "language": "python",
   "name": "python2"
  },
  "language_info": {
   "codemirror_mode": {
    "name": "ipython",
    "version": 2
   },
   "file_extension": ".py",
   "mimetype": "text/x-python",
   "name": "python",
   "nbconvert_exporter": "python",
   "pygments_lexer": "ipython2",
   "version": "2.7.15"
  }
 },
 "nbformat": 4,
 "nbformat_minor": 2
}
