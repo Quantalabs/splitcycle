{
 "cells": [
  {
   "cell_type": "markdown",
   "metadata": {},
   "source": [
    "# Split Cycle\n",
    "\n",
    "This notebook contains examples from the paper \"[Split Cycle: A New Condorcet Consistent Voting Method Independent of Clones and Immune to Spoilers](https://arxiv.org/abs/2004.02350)\" by Wesley H. Holliday and Eric Pacuit.  \n"
   ]
  },
  {
   "cell_type": "code",
   "execution_count": 1,
   "metadata": {},
   "outputs": [],
   "source": [
    "%load_ext autoreload\n",
    "%autoreload 2"
   ]
  },
  {
   "cell_type": "code",
   "execution_count": 2,
   "metadata": {},
   "outputs": [],
   "source": [
    "from itertools import product, combinations\n",
    "import matplotlib.pyplot as plt\n",
    "import networkx as nx\n",
    "from IPython.display import display, Math\n",
    "\n",
    "from voting.profiles import *\n",
    "from voting.generate_profiles import *\n",
    "from voting.voting_methods import *"
   ]
  },
  {
   "cell_type": "markdown",
   "metadata": {},
   "source": [
    "# Notation\n",
    "\n",
    "Refer to our paper for more details about the terminology and notation. \n",
    "\n",
    "Fix infinite sets $\\mathcal{V}$ and $\\mathcal{X}$ of *voters* and *candidates*, respectively. For $X\\subseteq\\mathcal{X}$, let $\\mathcal{L}(X)$ be the set of all linear orders on $X$.\n",
    "\n",
    "A **profile** is a function $\\mathbf{P}: V(\\mathbf{P})\\to \\mathcal{L}(X(\\mathbf{P}))$ for some nonempty finite $V(\\mathbf{P})\\subseteq \\mathcal{V}$ and nonempty finite $X(\\mathbf{P})\\subseteq \\mathcal{X}$. We call $V(\\mathbf{P})$ and $X(\\mathbf{P})$ the sets of *voters in $\\mathbf{P}$* and *candidates in $\\mathbf{P}$*, respectively. We call $\\mathbf{P}(i)$ voter $i$'s *ballot*, and we write '$x\\mathbf{P}_iy$' for $(x,y)\\in\\mathbf{P}(i)$.\n",
    "\n",
    "A **margin graph**  is a weighted directed graph such that the edge relation of the graph is asymmetric and either all weights of edges are even positive integers or all weights of edges are odd positive integers.\n",
    "\n",
    "Let $\\mathbf{P}$ be a profile and $a,b\\in X(\\mathbf{P})$. Then $Margin_\\mathbf{P}(a,b)=|\\{i\\in V(\\mathbf{P})\\mid a\\mathbf{P}_ib\\}|-|\\{i\\in V(\\mathbf{P})\\mid b\\mathbf{P}_ia\\}|$.  The *margin graph of $\\mathbf{P}$*, $\\mathcal{M}(\\mathbf{P})$, is the weighted directed graph whose set of vertices is $X(\\mathbf{P})$ with an edge from $a$ to $b$ weighted by $Margin(a,b)$ when $Margin(a,b)>0$, in which case we say that *$a$ is majority preferred to $b$*. We write $a\\overset{\\alpha}{\\to}_\\mathbf{P}b\\mbox{ if }\\alpha = Margin_\\mathbf{P}(a,b)> 0.$   \n"
   ]
  },
  {
   "cell_type": "code",
   "execution_count": 3,
   "metadata": {},
   "outputs": [],
   "source": [
    "\n",
    "# define some variables to simplify notation \n",
    "a = 0\n",
    "b = 1\n",
    "c = 2\n",
    "d = 3\n",
    "e = 4\n",
    "f = 5\n",
    "\n",
    "# candidate names are integers\n",
    "cand_names_3 = [a, b, c]\n",
    "cand_names_4 = [a, b, c, d]\n",
    "cand_names_5 = [a, b, c, d, e]\n",
    "cand_names_5 = [a, b, c, d, e, f]\n",
    "\n",
    "# map candidate names to letters to match the notation in our papaer\n",
    "cmap_abc    = {a:\"a\", b:\"b\", c:\"c\"}\n",
    "cmap_abcd   = {a:\"a\", b:\"b\", c:\"c\", d:\"d\"}\n",
    "cmap_abcde  = {a:\"a\", b:\"b\", c:\"c\", d:\"d\", e:\"e\"}\n",
    "cmap_abcdef = {a:\"a\", b:\"b\", c:\"c\", d:\"d\", e:\"e\", f:\"f\"}\n"
   ]
  },
  {
   "cell_type": "code",
   "execution_count": 4,
   "metadata": {},
   "outputs": [
    {
     "name": "stdout",
     "output_type": "stream",
     "text": [
      "+---+---+---+\n",
      "| 2 | 3 | 4 |\n",
      "+---+---+---+\n",
      "| b | a | c |\n",
      "| a | c | b |\n",
      "| c | b | a |\n",
      "+---+---+---+\n"
     ]
    },
    {
     "data": {
      "image/png": "[encoded data removed]",
      "text/plain": [
       "<Figure size 432x288 with 1 Axes>"
      ]
     },
     "metadata": {},
     "output_type": "display_data"
    },
    {
     "name": "stdout",
     "output_type": "stream",
     "text": [
      "There is an edge from b to a since 6 voters rank b above a and 3 voters rank a above b. So, Margin(b, a) = 3\n"
     ]
    }
   ],
   "source": [
    "# Example from Section 1.1, pg. 6\n",
    "\n",
    "# candidate names\n",
    "cand_names = cand_names_3\n",
    "\n",
    "#candidate name map\n",
    "cmap = cmap_abc\n",
    "\n",
    "num_cands = 3\n",
    "\n",
    "prof = Profile(\n",
    "    [\n",
    "        (b, a, c),\n",
    "        (a, c, b),\n",
    "        (c, b, a)\n",
    "    ], \n",
    "    num_cands, \n",
    "    rcounts = [2, 3, 4], \n",
    "    cmap = cmap)\n",
    "\n",
    "\n",
    "# display the profile\n",
    "prof.display()\n",
    "\n",
    "# display the margin graph\n",
    "prof.display_margin_graph()\n",
    "\n",
    "print(f\"There is an edge from {cmap[b]} to {cmap[a]} since \\\n",
    "{prof.support(b,a)} voters rank {cmap[b]} above {cmap[a]} and {prof.support(a,b)} voters rank {cmap[a]} above {cmap[b]}. So, Margin({cmap[b]}, {cmap[a]}) = {prof.margin(b,a)}\")    \n",
    "\n",
    "\n",
    "\n"
   ]
  },
  {
   "cell_type": "markdown",
   "metadata": {},
   "source": [
    "## Voting Method\n",
    "\n",
    "A **voting method** is a function $F$ on the domain of all profiles such that for any profile $\\mathbf{P}$, $\\varnothing\\neq F(\\mathbf{P})\\subseteq X(\\mathbf{P})$. We call $F(\\mathbf{P})$ the set of *winners for $\\mathbf{P}$ under $F$*.\n"
   ]
  },
  {
   "cell_type": "markdown",
   "metadata": {},
   "source": [
    "### Examples from Section 1.2"
   ]
  },
  {
   "cell_type": "code",
   "execution_count": 5,
   "metadata": {},
   "outputs": [
    {
     "name": "stdout",
     "output_type": "stream",
     "text": [
      "\n",
      "Illustrating the strong no show paradox - Section 1.2\n",
      "\n",
      "\n",
      "+---+---+---+---+\n",
      "| 2 | 3 | 1 | 3 |\n",
      "+---+---+---+---+\n",
      "| a | b | c | c |\n",
      "| b | c | a | b |\n",
      "| c | a | b | a |\n",
      "+---+---+---+---+\n",
      "Instant Runoff winner: b\n",
      "\n",
      "\n",
      "Two voters are added with the ranking (a,b,c)\n",
      "\n",
      "+---+---+---+---+\n",
      "| 4 | 3 | 1 | 3 |\n",
      "+---+---+---+---+\n",
      "| a | b | c | c |\n",
      "| b | c | a | b |\n",
      "| c | a | b | a |\n",
      "+---+---+---+---+\n",
      "Instant Runoff winner: c\n"
     ]
    }
   ],
   "source": [
    "print(\"\\nIllustrating the strong no show paradox - Section 1.2\\n\\n\")\n",
    "\n",
    "# candidate names\n",
    "cand_names = cand_names_3\n",
    "\n",
    "#candidate name map\n",
    "cmap = cmap_abc\n",
    "\n",
    "num_cands = 3\n",
    "\n",
    "# Example from pg. 6 in Section 1.2\n",
    "prof1 = Profile(\n",
    "    [\n",
    "        (a, b, c),\n",
    "        (b, c, a),\n",
    "        (c, a, b),\n",
    "        (c, b, a)\n",
    "    ], \n",
    "    num_cands, \n",
    "    rcounts = [2, 3, 1, 3], \n",
    "    cmap = cmap)\n",
    "\n",
    "# display the profile\n",
    "prof1.display()\n",
    "\n",
    "# Winners for hare - also called ranked choice voting, see Appendix C.6\n",
    "display_winners(prof1, hare) # display_winners is found in voting/voting_methods.py\n",
    "\n",
    "print(f\"\\n\\nTwo voters are added with the ranking ({cmap[a]},{cmap[b]},{cmap[c]})\\n\")\n",
    "# Example from pg. 6 in Section 1.2\n",
    "prof2 = Profile(\n",
    "    [\n",
    "        (a, b, c),\n",
    "        (b, c, a),\n",
    "        (c, a, b),\n",
    "        (c, b, a)\n",
    "    ], \n",
    "    num_cands, \n",
    "    rcounts = [4, 3, 1, 3], \n",
    "    cmap = cmap)\n",
    "\n",
    "\n",
    "# display the profile\n",
    "prof2.display()\n",
    "\n",
    "# Winners for hare - also called ranked choice voting, see Appendix C.6\n",
    "display_winners(prof2, hare)\n"
   ]
  },
  {
   "cell_type": "code",
   "execution_count": 6,
   "metadata": {},
   "outputs": [
    {
     "name": "stdout",
     "output_type": "stream",
     "text": [
      "\n",
      "Illustrating failure of positive involvement - Section 1.2\n",
      "\n",
      "\n",
      "+---+---+---+\n",
      "| 2 | 2 | 1 |\n",
      "+---+---+---+\n",
      "| a | b | c |\n",
      "| b | c | a |\n",
      "| c | a | b |\n",
      "+---+---+---+\n",
      "Sequential Elimination winner: c\n",
      "\n",
      "\n",
      "Two voters are added with the ranking (c,b,a)\n",
      "\n",
      "+---+---+---+---+\n",
      "| 2 | 2 | 1 | 2 |\n",
      "+---+---+---+---+\n",
      "| a | b | c | c |\n",
      "| b | c | a | b |\n",
      "| c | a | b | a |\n",
      "+---+---+---+---+\n",
      "Sequential Elimination winner: b\n"
     ]
    }
   ],
   "source": [
    "print(\"\\nIllustrating failure of positive involvement - Section 1.2\\n\\n\")\n",
    "\n",
    "@vm_name(\"Sequential Elimination\")\n",
    "def sequential_elimination(profile, elim_order = None): \n",
    "    \n",
    "    # the default elimination order is a, b, c, d, ....\n",
    "    elim_order =  elim_order if elim_order is not None else sorted(profile.candidates)\n",
    "    \n",
    "    if profile.margin(elim_order[0], elim_order[1]) > 0: \n",
    "        winner = elim_order[0]\n",
    "    elif profile.margin(elim_order[1], elim_order[0]) > 0: \n",
    "        winner = elim_order[1]\n",
    "    else: \n",
    "        return None # need to implement a tiebreaker\n",
    "    \n",
    "    for c in elim_order[2::]: \n",
    "        if profile.margin(c, winner) > 0: \n",
    "            winner = c\n",
    "        elif profile.margin(winner, c) > 0: \n",
    "            continue\n",
    "        else: \n",
    "            return None # need to implement a tiebreaker\n",
    "    return sorted([winner])\n",
    "\n",
    "# candidate names\n",
    "cand_names = cand_names_3\n",
    "\n",
    "#candidate name map\n",
    "cmap = cmap_abc\n",
    "\n",
    "num_cands = 3\n",
    "\n",
    "# Example from pg. 6 in Section 1.2\n",
    "prof1 = Profile(\n",
    "    [\n",
    "        (a, b, c),\n",
    "        (b, c, a),\n",
    "        (c, a, b)\n",
    "    ], \n",
    "    num_cands, \n",
    "    rcounts = [2, 2, 1], \n",
    "    cmap = cmap)\n",
    "\n",
    "# display the profile\n",
    "prof1.display()\n",
    "\n",
    "\n",
    "# Winners for hare - also called ranked choice voting, see Appendix C.6\n",
    "display_winners(prof1, sequential_elimination)\n",
    "\n",
    "print(f\"\\n\\nTwo voters are added with the ranking ({cmap[c]},{cmap[b]},{cmap[a]})\\n\")\n",
    "# Example from pg. 6 in Section 1.2\n",
    "prof2 = Profile(\n",
    "    [\n",
    "        (a, b, c),\n",
    "        (b, c, a),\n",
    "        (c, a, b),\n",
    "        (c, b, a)\n",
    "    ], \n",
    "    num_cands, \n",
    "    rcounts = [2, 2, 1, 2], \n",
    "    cmap = cmap)\n",
    "\n",
    "\n",
    "# display the profile\n",
    "prof2.display()\n",
    "\n",
    "# Winners for hare - also called ranked choice voting, see Appendix C.6\n",
    "display_winners(prof2, sequential_elimination)\n"
   ]
  },
  {
   "cell_type": "markdown",
   "metadata": {},
   "source": [
    "## Split Cycle\n",
    "\n",
    "Given a margin graph $\\mathcal{M}$, a **simple cycle in $\\mathcal{M}$** is a sequence $\\langle x_1,\\dots,x_n\\rangle$ of nodes from $\\mathcal{M}$ such that $n>1$, and for all distinct $i,j\\in \\{1,\\dots,n\\}$, $x_i=x_j$ if and only if $i,j\\in \\{1,n\\}$ (i.e., all nodes are distinct except $x_1=x_n$), and for all $i\\in \\{1,\\dots,n-1\\}$, we have $x_i\\to x_{i+1}$, where $\\to $ is the edge relation of the graph. By 'cycle' we always mean a simple cycle.\n",
    "\n",
    "Let $\\mathbf{P}$ be a profile and $\\rho$ a simple cycle in $\\mathcal{M}(\\mathbf{P})$. The **splitting number** of $\\rho$, $Split\\#(\\rho)$, is the smallest margin between consecutive candidates in $\\rho$\n",
    "\n",
    "\n",
    "Let $\\mathbf{P}$ be a profile and $a,b\\in X(\\mathbf{P})$. Then **$a$ defeats $b$ in $\\mathbf{P}$** if $Margin_\\mathbf{P}(a,b)>0$ and $Margin_\\mathbf{P}(a,b)>Split\\#(\\rho)$ for every simple cycle $\\rho$ in $\\mathcal{M}(\\mathbf{P})$ containing $a$ and $b$. A candidate $b$ is **undefeated in $\\mathbf{P}$** if there is no candidate that defeats $b$.\n",
    "\n",
    "\n",
    "For any profile $\\mathbf{P}$, the set of **Split Cycle winners**, $SC(\\mathbf{P})$, is the set of candidates who are undefeated in $\\mathbf{P}$.\n",
    "\n"
   ]
  },
  {
   "cell_type": "code",
   "execution_count": 7,
   "metadata": {},
   "outputs": [],
   "source": [
    "## The following is in voting/voting_methods.py, but included here for reference. \n",
    "\n",
    "@vm_name(\"Split Cycle\") \n",
    "def split_cycle(profile):\n",
    "    \"\"\"A *majority cycle* in a profile P is a sequence x_1,...,x_n of distinct candidates in \n",
    "    P with x_1=x_n such that for 1 <= k <= n-1,  x_k is majority preferred to x_{k+1}.\n",
    "    The *strength of* a majority is the minimal margin in the cycle.  \n",
    "    Say that a defeats b in P if the margin of a over b is positive and greater than \n",
    "    the strength of the strongest majority cycle containing a and b. The Split Cycle winners\n",
    "    are the undefeated candidates.\n",
    "    \"\"\"\n",
    "    \n",
    "    candidates = profile.candidates \n",
    "    \n",
    "    # create the margin graph\n",
    "    mg = profile.margin_graph()\n",
    "    \n",
    "    # find the cycle number for each candidate\n",
    "    cycle_number = {cs:0 for cs in permutations(candidates,2)}\n",
    "    for cycle in nx.simple_cycles(mg): # for each cycle in the margin graph\n",
    "\n",
    "        # get all the margins (i.e., the weights) of the edges in the cycle\n",
    "        margins = list() \n",
    "        for idx,c1 in enumerate(cycle): \n",
    "            next_idx = idx + 1 if (idx + 1) < len(cycle) else 0\n",
    "            c2 = cycle[next_idx]\n",
    "            margins.append(mg[c1][c2]['weight'])\n",
    "            \n",
    "        split_number = min(margins) # the split number of the cycle is the minimal margin\n",
    "        for c1,c2 in cycle_number.keys():\n",
    "            c1_index = cycle.index(c1) if c1 in cycle else -1\n",
    "            c2_index = cycle.index(c2) if c2 in cycle else -1\n",
    "\n",
    "            # only need to check cycles with an edge from c1 to c2\n",
    "            if (c1_index != -1 and c2_index != -1) and ((c2_index == c1_index + 1) or (c1_index == len(cycle)-1 and c2_index == 0)):\n",
    "                cycle_number[(c1,c2)] = split_number if split_number > cycle_number[(c1,c2)] else cycle_number[(c1,c2)]        \n",
    "\n",
    "    # construct the defeat relation, where a defeats b if margin(a,b) > cycle_number(a,b) (see Lemma 3.13)\n",
    "    defeat = nx.DiGraph()\n",
    "    defeat.add_nodes_from(candidates)\n",
    "    defeat.add_edges_from([(c1,c2)  \n",
    "           for c1 in candidates \n",
    "           for c2 in candidates if c1 != c2 if profile.margin(c1,c2) > cycle_number[(c1,c2)]])\n",
    "\n",
    "    # the winners are candidates not defeated by any other candidate\n",
    "    winners = unbeaten_candidates(defeat)\n",
    "    \n",
    "    return sorted(list(set(winners)))\n",
    "\n",
    "\n",
    "# Return Split Cycle winners, split numbers, and defeat graph\n",
    "def split_cycle_with_data(prof, cmap = None):\n",
    "    \"\"\"Split Cycle (with data)\"\"\"\n",
    "        \n",
    "    candidates = prof.candidates \n",
    "    \n",
    "    # create the margin graph\n",
    "    mg = prof.margin_graph() \n",
    "\n",
    "    # find the cycle numbers (Definition  3.12) for each candidate\n",
    "    cycle_number = {cs:0 for cs in permutations(prof.candidates,2)}\n",
    "    split_numbers = dict()\n",
    "    for cycle in nx.simple_cycles(mg): # for each cycle in the margin graph\n",
    "\n",
    "        # get all the margins (i.e., the weights) of the edges in the cycle\n",
    "        margins = list() \n",
    "        for idx,c1 in enumerate(cycle): \n",
    "            next_idx = idx + 1 if (idx + 1) < len(cycle) else 0\n",
    "            c2 = cycle[next_idx]\n",
    "            margins.append(mg[c1][c2]['weight'])\n",
    "            \n",
    "        split_number = min(margins) # the split number of the cycle (Definition 3.2)\n",
    "        \n",
    "        split_numbers.update({tuple(cycle): split_number}) # record split numbers\n",
    "        for c1,c2 in cycle_number.keys():\n",
    "            c1_index = cycle.index(c1) if c1 in cycle else -1\n",
    "            c2_index = cycle.index(c2) if c2 in cycle else -1\n",
    "\n",
    "            # only need to check cycles with an edge from c1 to c2\n",
    "            if (c1_index != -1 and c2_index != -1) and ((c2_index == c1_index + 1) or (c1_index == len(cycle)-1 and c2_index == 0)):\n",
    "                cycle_number[(c1,c2)] = split_number if split_number > cycle_number[(c1,c2)] else cycle_number[(c1,c2)]        \n",
    "\n",
    "    # construct the defeat relation, where a defeats b if margin(a,b) > cycle_number(a,b) (see Lemma 3.13)\n",
    "    defeat = nx.DiGraph()\n",
    "    defeat.add_nodes_from(candidates)\n",
    "    defeat.add_edges_from([(c1,c2)  \n",
    "           for c1 in candidates \n",
    "           for c2 in candidates if c1 != c2 if prof.margin(c1,c2) > cycle_number[(c1,c2)]])\n",
    "\n",
    "    # the winners are candidates not defeated by any other candidate\n",
    "    winners = unbeaten_candidates(defeat)\n",
    "    \n",
    "    cmap = cmap if cmap is not None else prof.cmap \n",
    "    winners_str =  \"{\" + \", \".join(sorted([str(cmap[w]) for w in winners])) + \"}\"\n",
    "    print(f\"\\nSplit Cycle winner{'s are ' if len(winners) > 1 else ' is '}\" + winners_str)\n",
    "    \n",
    "    print(\"\\n\")\n",
    "    print(\"The defeat relation and Split Cycle winners are highlighted in blue\")\n",
    "    display_mg_with_sc(prof, cmap = cmap)\n",
    "    print(\"\\n\")\n",
    "    for cycle in split_numbers.keys():\n",
    "        print(\"Split#({}) = {}\".format(\",\".join([cmap[c] for c in cycle]), split_numbers[cycle]))\n"
   ]
  },
  {
   "cell_type": "markdown",
   "metadata": {},
   "source": [
    "### Example from Section 3.1, item 1"
   ]
  },
  {
   "cell_type": "code",
   "execution_count": 8,
   "metadata": {},
   "outputs": [
    {
     "name": "stdout",
     "output_type": "stream",
     "text": [
      "+---+---+---+---+---+\n",
      "| 5 | 4 | 4 | 2 | 2 |\n",
      "+---+---+---+---+---+\n",
      "| a | c | b | c | b |\n",
      "| c | b | a | a | c |\n",
      "| b | a | c | b | a |\n",
      "+---+---+---+---+---+\n",
      "\n",
      "Split Cycle winner is {c}\n",
      "\n",
      "\n",
      "The defeat relation and Split Cycle winners are highlighted in blue\n"
     ]
    },
    {
     "data": {
      "image/png": "[encoded data removed]",
      "text/plain": [
       "<Figure size 432x288 with 1 Axes>"
      ]
     },
     "metadata": {},
     "output_type": "display_data"
    },
    {
     "name": "stdout",
     "output_type": "stream",
     "text": [
      "\n",
      "\n",
      "Split#(a,c,b) = 1\n"
     ]
    }
   ],
   "source": [
    "cmap = cmap_abc\n",
    "\n",
    "num_cands = 3\n",
    "\n",
    "# Example from pg. 6 in Section 1.2\n",
    "prof = Profile([\n",
    "    (a, c, b),\n",
    "    (c, b, a),\n",
    "    (b, a, c),\n",
    "    (c, a, b),\n",
    "    (b, c, a)\n",
    "], \n",
    "    num_cands, \n",
    "    rcounts = [5, 4, 4, 2, 2], \n",
    "    cmap = cmap)\n",
    "\n",
    "\n",
    "#display the profile\n",
    "prof.display()\n",
    "\n",
    "split_cycle_with_data(prof)\n"
   ]
  },
  {
   "cell_type": "markdown",
   "metadata": {},
   "source": [
    "### Example from Section 3.1, item 2"
   ]
  },
  {
   "cell_type": "code",
   "execution_count": 9,
   "metadata": {},
   "outputs": [
    {
     "name": "stdout",
     "output_type": "stream",
     "text": [
      "+---+---+---+---+---+\n",
      "| 3 | 1 | 2 | 1 | 2 |\n",
      "+---+---+---+---+---+\n",
      "| d | a | a | c | c |\n",
      "| b | d | c | b | b |\n",
      "| a | c | b | d | a |\n",
      "| c | b | d | a | d |\n",
      "+---+---+---+---+---+\n",
      "\n",
      "Split Cycle winners are {a, b, c}\n",
      "\n",
      "\n",
      "The defeat relation and Split Cycle winners are highlighted in blue\n"
     ]
    },
    {
     "data": {
      "image/png": "[encoded data removed]",
      "text/plain": [
       "<Figure size 432x288 with 1 Axes>"
      ]
     },
     "metadata": {},
     "output_type": "display_data"
    },
    {
     "name": "stdout",
     "output_type": "stream",
     "text": [
      "\n",
      "\n",
      "Split#(a,c,b) = 3\n"
     ]
    }
   ],
   "source": [
    "cmap = cmap_abcd\n",
    "\n",
    "num_cands = 4\n",
    "\n",
    "# Example from pg. 6 in Section 1.2\n",
    "prof = Profile([\n",
    "    (d, b, a, c),\n",
    "    (a, d, c, b),\n",
    "    (a, c, b, d),\n",
    "    (c, b, d, a),\n",
    "    (c, b, a, d) \n",
    "], \n",
    "    num_cands, \n",
    "    rcounts = [3, 1, 2, 1, 2], \n",
    "    cmap = cmap)\n",
    "\n",
    "\n",
    "#display the profile\n",
    "prof.display()\n",
    "\n",
    "split_cycle_with_data(prof)\n"
   ]
  },
  {
   "cell_type": "markdown",
   "metadata": {},
   "source": [
    "### Example from Section 3.1, item  3"
   ]
  },
  {
   "cell_type": "code",
   "execution_count": 10,
   "metadata": {},
   "outputs": [
    {
     "name": "stdout",
     "output_type": "stream",
     "text": [
      "+---+---+---+---+---+---+---+---+---+---+\n",
      "| 2 | 2 | 2 | 2 | 2 | 2 | 2 | 2 | 1 | 1 |\n",
      "+---+---+---+---+---+---+---+---+---+---+\n",
      "| b | e | a | d | c | f | a | e | d | f |\n",
      "| a | d | c | f | b | e | f | d | a | e |\n",
      "| c | f | b | e | a | d | b | c | b | c |\n",
      "| e | b | d | a | f | c | c | b | c | b |\n",
      "| d | a | f | c | e | b | d | a | e | d |\n",
      "| f | c | e | b | d | a | e | f | f | a |\n",
      "+---+---+---+---+---+---+---+---+---+---+\n",
      "\n",
      "Split Cycle winners are {a, b, c, d, e}\n",
      "\n",
      "\n",
      "The defeat relation and Split Cycle winners are highlighted in blue\n"
     ]
    },
    {
     "data": {
      "image/png": "[encoded data removed]",
      "text/plain": [
       "<Figure size 432x288 with 1 Axes>"
      ]
     },
     "metadata": {},
     "output_type": "display_data"
    },
    {
     "name": "stdout",
     "output_type": "stream",
     "text": [
      "\n",
      "\n",
      "Split#(a,f,e,d) = 2\n",
      "Split#(a,c,b) = 4\n",
      "Split#(d,f,e) = 4\n"
     ]
    }
   ],
   "source": [
    "\n",
    "cmap = cmap_abcdef\n",
    "\n",
    "num_cands = 6\n",
    "\n",
    "# Example from pg. 6 in Section 1.2\n",
    "prof = Profile([\n",
    "    (b,a,c,e,d,f),\n",
    "    (e,d,f,b,a,c),\n",
    "    (a,c,b,d,f,e),\n",
    "    (d,f,e,a,c,b),\n",
    "    (c,b,a,f,e,d),\n",
    "    (f,e,d,c,b,a),\n",
    "    (a,f,b,c,d,e),\n",
    "    (e,d,c,b,a,f),\n",
    "    (d,a,b,c,e,f),\n",
    "    (f,e,c,b,d,a) \n",
    "], \n",
    "    num_cands, \n",
    "    rcounts = [2, 2, 2, 2, 2, 2, 2, 2, 1, 1], \n",
    "    cmap = cmap)\n",
    "\n",
    "\n",
    "#display the profile\n",
    "prof.display()\n",
    "\n",
    "split_cycle_with_data(prof)\n"
   ]
  },
  {
   "cell_type": "markdown",
   "metadata": {},
   "source": [
    "### Example 3.8"
   ]
  },
  {
   "cell_type": "code",
   "execution_count": 11,
   "metadata": {},
   "outputs": [
    {
     "name": "stdout",
     "output_type": "stream",
     "text": [
      "+---+---+---+---+---+---+\n",
      "| 4 | 3 | 7 | 7 | 2 | 1 |\n",
      "+---+---+---+---+---+---+\n",
      "| e | c | e | d | c | d |\n",
      "| c | b | b | a | d | e |\n",
      "| b | a | a | c | b | a |\n",
      "| a | d | d | b | a | b |\n",
      "| d | e | c | e | e | c |\n",
      "+---+---+---+---+---+---+\n",
      "\n",
      "Split Cycle winner is {d}\n",
      "\n",
      "\n",
      "The defeat relation and Split Cycle winners are highlighted in blue\n"
     ]
    },
    {
     "data": {
      "image/png": "[encoded data removed]",
      "text/plain": [
       "<Figure size 432x288 with 1 Axes>"
      ]
     },
     "metadata": {},
     "output_type": "display_data"
    },
    {
     "name": "stdout",
     "output_type": "stream",
     "text": [
      "\n",
      "\n",
      "Split#(a,d,c,b) = 4\n",
      "Split#(a,c,b) = 6\n",
      "Split#(b,d,c) = 4\n"
     ]
    }
   ],
   "source": [
    "\n",
    "cmap = cmap_abcde\n",
    "\n",
    "num_cands = 5\n",
    "\n",
    "# Example from pg. 6 in Section 1.2\n",
    "prof = Profile([\n",
    "    (e, c, b, a, d),\n",
    "    (c, b, a, d, e),\n",
    "    (e, b, a, d, c),\n",
    "    (d, a, c, b, e),\n",
    "    (c, d, b, a, e),\n",
    "    (d, e, a, b, c)\n",
    "], \n",
    "    num_cands, \n",
    "    rcounts = [4, 3, 7, 7, 2, 1], \n",
    "    cmap = cmap)\n",
    "\n",
    "\n",
    "#display the profile\n",
    "prof.display()\n",
    "\n",
    "split_cycle_with_data(prof)\n"
   ]
  },
  {
   "cell_type": "markdown",
   "metadata": {},
   "source": [
    "## Comparison with Beat Path (Lemma 3.17)\n",
    "\n",
    "**Lemma (3.17)**.   For any profile, the set of Beat Path winners is a subset of the set of Split Cycle winners. \n",
    "\n",
    "Both the [Schulze's Beat Path](https://arxiv.org/pdf/1804.02973.pdf) method  and Split Cycle can be implemented using a variation of the [Floyd-Warshall algorithm](https://www.programiz.com/dsa/floyd-warshall-algorithm).   "
   ]
  },
  {
   "cell_type": "code",
   "execution_count": 12,
   "metadata": {},
   "outputs": [],
   "source": [
    "# The following code is available in voting/voting_methods.py, but included here for reference\n",
    "\n",
    "@vm_name(\"Beat Path\")\n",
    "def beat_path_faster(profile):   \n",
    "    \"\"\"Implementation of Beat Path using a variation of the Floyd Warshall-Algorithm\n",
    "    See https://en.wikipedia.org/wiki/Schulze_method#Implementation\n",
    "    \"\"\"\n",
    "    \n",
    "    candidates = profile.candidates\n",
    "    \n",
    "    mg = [[-np.inf for _ in candidates] for _ in candidates]\n",
    "    for c1 in candidates:\n",
    "        for c2 in candidates:\n",
    "            if (profile.support(c1,c2) > profile.support(c2,c1) or c1 == c2):\n",
    "                mg[c1][c2] = profile.support(c1,c2) - profile.support(c2,c1)\n",
    "    strength = list(map(lambda i : list(map(lambda j : j , i)) , mg))\n",
    "    for i in candidates:         \n",
    "        for j in candidates: \n",
    "            if i!= j:\n",
    "                for k in candidates: \n",
    "                    if i!= k and j != k:\n",
    "                        strength[j][k] = max(strength[j][k], min(strength[j][i],strength[i][k]))\n",
    "    winners = {i:True for i in candidates}\n",
    "    for i in candidates: \n",
    "        for j in candidates:\n",
    "            if i!=j:\n",
    "                if strength[j][i] > strength[i][j]:\n",
    "                    winners[i] = False\n",
    "    return sorted([c for c in candidates if winners[c]])\n",
    "\n",
    "\n",
    "@vm_name(\"Split Cycle\")\n",
    "def split_cycle_faster(profile):   \n",
    "    \"\"\"Implementation of Split Cycle using a variation of the Floyd Warshall-Algorithm  \n",
    "    \"\"\"\n",
    "    candidates = profile.candidates\n",
    "    weak_condorcet_winners = {c:True for c in candidates}\n",
    "    mg = [[-np.inf for _ in candidates] for _ in candidates]\n",
    "    \n",
    "    # Weak Condorcet winners are Split Cycle winners\n",
    "    for c1 in candidates:\n",
    "        for c2 in candidates:\n",
    "            if (profile.support(c1,c2) > profile.support(c2,c1) or c1 == c2):\n",
    "                mg[c1][c2] = profile.support(c1,c2) - profile.support(c2,c1)\n",
    "                weak_condorcet_winners[c2] = weak_condorcet_winners[c2] and (c1 == c2)\n",
    "    \n",
    "    strength = list(map(lambda i : list(map(lambda j : j , i)) , mg))\n",
    "    for i in candidates:         \n",
    "        for j in candidates: \n",
    "            if i!= j:\n",
    "                if not weak_condorcet_winners[j]: # weak Condorcet winners are Split Cycle winners\n",
    "                    for k in candidates: \n",
    "                        if i!= k and j != k:\n",
    "                            strength[j][k] = max(strength[j][k], min(strength[j][i],strength[i][k]))\n",
    "    winners = {i:True for i in candidates}\n",
    "    for i in candidates: \n",
    "        for j in candidates:\n",
    "            if i!=j:\n",
    "                if mg[j][i] > strength[i][j]: # the main difference with Beat Path\n",
    "                    winners[i] = False\n",
    "    return sorted([c for c in candidates if winners[c]])\n"
   ]
  },
  {
   "cell_type": "code",
   "execution_count": 13,
   "metadata": {},
   "outputs": [
    {
     "name": "stdout",
     "output_type": "stream",
     "text": [
      "+---+---+---+---+\n",
      "| 1 | 2 | 1 | 2 |\n",
      "+---+---+---+---+\n",
      "| d | c | c | b |\n",
      "| b | a | d | a |\n",
      "| c | d | b | d |\n",
      "| a | b | a | c |\n",
      "+---+---+---+---+\n"
     ]
    },
    {
     "data": {
      "image/png": "[encoded data removed]",
      "text/plain": [
       "<Figure size 432x288 with 1 Axes>"
      ]
     },
     "metadata": {},
     "output_type": "display_data"
    },
    {
     "name": "stdout",
     "output_type": "stream",
     "text": [
      "\n",
      "\n",
      "Split Cycle winners: b, c, d\n",
      "Beat Path winner: c\n"
     ]
    }
   ],
   "source": [
    "# Example in which Beat Path winners are a strict subset of Split Cycle winners\n",
    "\n",
    "#candidate name map\n",
    "cmap = cmap_abcde\n",
    "\n",
    "num_cands = 4\n",
    "\n",
    "anon_prof = {(d, b, c, a): 1,\n",
    "             (c, a, d, b): 2,\n",
    "             (c, d, b, a): 1,\n",
    "             (b, a, d, c): 2\n",
    "            } \n",
    "\n",
    "rankings = list(anon_prof.keys())\n",
    "rcounts = [anon_prof[r] for r in rankings]\n",
    "\n",
    "prof = Profile(rankings,\n",
    "               num_cands, \n",
    "               rcounts = rcounts, \n",
    "               cmap = cmap)\n",
    "\n",
    "\n",
    "#display the profile\n",
    "prof.display()\n",
    "\n",
    "# display the margin graph\n",
    "display_mg_with_sc(prof)\n",
    "\n",
    "print(\"\\n\")\n",
    "display_winners(prof, split_cycle_faster )\n",
    "display_winners(prof, beat_path_faster)\n",
    "\n"
   ]
  },
  {
   "cell_type": "markdown",
   "metadata": {},
   "source": [
    "## Immunity to Spoilers\n",
    "\n",
    "A voting method $F$ satisfies **immunity to spoilers** if for every profile $\\mathbf{P}$ and $a,b\\in X(\\mathbf{P})$, if $a\\in F(\\mathbf{P}_{-b})$ and $Margin_\\mathbf{P}(a,b)> 0$ and $b\\not\\in F(\\mathbf{P})$, then $a\\in F(\\mathbf{P})$.\n",
    "\n",
    "**Proposition** Beat Path and Ranked Pairs are not immune to spoilers. "
   ]
  },
  {
   "cell_type": "markdown",
   "metadata": {},
   "source": [
    "### Beat Path is not immune to spoilers."
   ]
  },
  {
   "cell_type": "code",
   "execution_count": 14,
   "metadata": {},
   "outputs": [
    {
     "name": "stdout",
     "output_type": "stream",
     "text": [
      "Profile without candidate e\n",
      "\n",
      "+---+---+---+---+---+\n",
      "| 9 | 3 | 2 | 5 | 4 |\n",
      "+---+---+---+---+---+\n",
      "| b | a | d | d | d |\n",
      "| a | c | a | c | c |\n",
      "| c | b | c | b | a |\n",
      "| d | d | b | a | b |\n",
      "+---+---+---+---+---+\n"
     ]
    },
    {
     "data": {
      "image/png": "[encoded data removed]",
      "text/plain": [
       "<Figure size 432x288 with 1 Axes>"
      ]
     },
     "metadata": {},
     "output_type": "display_data"
    },
    {
     "name": "stdout",
     "output_type": "stream",
     "text": [
      "\n",
      "\n",
      "Split Cycle winners: a, b, c\n",
      "Beat Path winners: a, b, c\n",
      "\n",
      "--------\n",
      "\n",
      "Profile with candidate e\n",
      "\n",
      "+---+---+---+---+---+---+---+---+\n",
      "| 2 | 3 | 3 | 1 | 1 | 5 | 4 | 4 |\n",
      "+---+---+---+---+---+---+---+---+\n",
      "| b | b | a | d | d | d | b | d |\n",
      "| a | a | e | e | a | e | e | c |\n",
      "| c | c | c | a | e | c | a | a |\n",
      "| d | e | b | c | c | b | c | b |\n",
      "| e | d | d | b | b | a | d | e |\n",
      "+---+---+---+---+---+---+---+---+\n"
     ]
    },
    {
     "data": {
      "image/png": "[encoded data removed]",
      "text/plain": [
       "<Figure size 432x288 with 1 Axes>"
      ]
     },
     "metadata": {},
     "output_type": "display_data"
    },
    {
     "name": "stdout",
     "output_type": "stream",
     "text": [
      "\n",
      "\n",
      "Split Cycle winners: a, b, d\n",
      "Beat Path winner: d\n"
     ]
    }
   ],
   "source": [
    "# profile without candidate e\n",
    "print(\"Profile without candidate e\\n\")\n",
    "\n",
    "#candidate name map\n",
    "cmap = cmap_abcd\n",
    "\n",
    "\n",
    "anon_prof = {(b, a, c, d):9,\n",
    "             (a, c, b, d):3,\n",
    "             (d, a, c, b):2,\n",
    "             (d, c, b, a):5,\n",
    "             (d, c, a, b):4} \n",
    "\n",
    "rankings = list(anon_prof.keys())\n",
    "rcounts = [anon_prof[r] for r in rankings]\n",
    "num_cands = len(rankings[0])\n",
    "\n",
    "prof = Profile(rankings,\n",
    "               num_cands, \n",
    "               rcounts = rcounts, \n",
    "               cmap = cmap)\n",
    "\n",
    "#display the profile\n",
    "prof.display()\n",
    "\n",
    "# display the margin graph\n",
    "display_mg_with_sc(prof)\n",
    "\n",
    "print(\"\\n\")\n",
    "display_winners(prof, split_cycle_faster)\n",
    "display_winners(prof, beat_path_faster)\n",
    "\n",
    "\n",
    "print(\"\\n--------\\n\")\n",
    "\n",
    "# profile with candidate e\n",
    "\n",
    "print(\"Profile with candidate e\\n\")\n",
    "\n",
    "#candidate name map\n",
    "cmap = cmap_abcde\n",
    "\n",
    "anon_prof = {(b, a, c, d, e):2,\n",
    "             (b, a, c, e, d):3,\n",
    "             (a, e, c, b, d):3,\n",
    "             (d, e, a, c, b):1,\n",
    "             (d, a, e, c, b):1,\n",
    "             (d, e, c, b, a):5,\n",
    "             (b, e, a, c, d):4,\n",
    "             (d, c, a, b, e):4} \n",
    "\n",
    "rankings = list(anon_prof.keys())\n",
    "rcounts = [anon_prof[r] for r in rankings]\n",
    "num_cands = len(rankings[0])\n",
    "\n",
    "prof = Profile(rankings,\n",
    "               num_cands, \n",
    "               rcounts = rcounts, \n",
    "               cmap = cmap)\n",
    "\n",
    "#display the profile\n",
    "prof.display()\n",
    "\n",
    "# display the margin graph\n",
    "display_mg_with_sc(prof)\n",
    "\n",
    "print(\"\\n\")\n",
    "display_winners(prof, split_cycle_faster)\n",
    "display_winners(prof, beat_path_faster)\n",
    "\n"
   ]
  },
  {
   "cell_type": "markdown",
   "metadata": {},
   "source": [
    "### Ranked Pairs is not immune to spoilers."
   ]
  },
  {
   "cell_type": "code",
   "execution_count": 15,
   "metadata": {},
   "outputs": [
    {
     "name": "stdout",
     "output_type": "stream",
     "text": [
      "Profile without candidate e\n",
      "\n",
      "+---+---+---+---+---+---+---+----+----+\n",
      "| 5 | 3 | 1 | 7 | 4 | 4 | 2 | 11 | 16 |\n",
      "+---+---+---+---+---+---+---+----+----+\n",
      "| a | b | a | d | c | d | b | b  | c  |\n",
      "| b | c | c | a | a | b | a | a  | d  |\n",
      "| c | d | b | b | b | c | c | d  | a  |\n",
      "| d | a | d | c | d | a | d | c  | b  |\n",
      "+---+---+---+---+---+---+---+----+----+\n"
     ]
    },
    {
     "data": {
      "image/png": "[encoded data removed]",
      "text/plain": [
       "<Figure size 432x288 with 1 Axes>"
      ]
     },
     "metadata": {},
     "output_type": "display_data"
    },
    {
     "name": "stdout",
     "output_type": "stream",
     "text": [
      "\n",
      "\n",
      "Split Cycle winner: a\n",
      "Beat Path winner: a\n",
      "Ranked Pairs winner: a\n",
      "\n",
      "--------\n",
      "\n",
      "Profile with candidate e\n",
      "\n",
      "+---+---+---+---+---+---+---+---+---+---+----+\n",
      "| 5 | 3 | 4 | 1 | 7 | 4 | 4 | 2 | 7 | 4 | 12 |\n",
      "+---+---+---+---+---+---+---+---+---+---+----+\n",
      "| a | b | c | e | d | c | e | e | e | b | c  |\n",
      "| b | c | e | a | a | a | d | b | b | e | d  |\n",
      "| c | e | d | c | b | e | b | a | a | a | a  |\n",
      "| d | d | a | b | c | b | c | c | d | d | e  |\n",
      "| e | a | b | d | e | d | a | d | c | c | b  |\n",
      "+---+---+---+---+---+---+---+---+---+---+----+\n"
     ]
    },
    {
     "data": {
      "image/png": "[encoded data removed]",
      "text/plain": [
       "<Figure size 432x288 with 1 Axes>"
      ]
     },
     "metadata": {},
     "output_type": "display_data"
    },
    {
     "name": "stdout",
     "output_type": "stream",
     "text": [
      "\n",
      "\n",
      "Split Cycle winners: a, c\n",
      "Beat Path winner: a\n",
      "Ranked Pairs winner: c\n"
     ]
    }
   ],
   "source": [
    "# profile without candidate e\n",
    "\n",
    "print(\"Profile without candidate e\\n\")\n",
    "#candidate name map\n",
    "cmap = cmap_abcd\n",
    "\n",
    "anon_prof = {(a, b, c, d):5,\n",
    "             (b, c, d, a):3,\n",
    "             (a, c, b, d):1,\n",
    "             (d, a, b, c):7,\n",
    "             (c, a, b, d):4,\n",
    "             (d, b, c, a):4,\n",
    "             (b, a, c, d):2,\n",
    "             (b, a, d, c):11,\n",
    "             (c, d, a, b):16} \n",
    "\n",
    "rankings = list(anon_prof.keys())\n",
    "rcounts = [anon_prof[r] for r in rankings]\n",
    "num_cands = len(rankings[0])\n",
    "\n",
    "prof = Profile(rankings,\n",
    "               num_cands, \n",
    "               rcounts = rcounts, \n",
    "               cmap = cmap)\n",
    "\n",
    "#display the profile\n",
    "prof.display()\n",
    "\n",
    "# display the margin graph\n",
    "display_mg_with_sc(prof)\n",
    "\n",
    "print(\"\\n\")\n",
    "display_winners(prof, split_cycle_faster)\n",
    "display_winners(prof, beat_path_faster)\n",
    "display_winners(prof, ranked_pairs)\n",
    "\n",
    "print(\"\\n--------\\n\")\n",
    "\n",
    "# profile with candidate e\n",
    "\n",
    "print(\"Profile with candidate e\\n\")\n",
    "\n",
    "#candidate name map\n",
    "cmap = cmap_abcde\n",
    "\n",
    "anon_prof = {(a, b, c, d, e):5,\n",
    "             (b, c, e, d, a):3,\n",
    "             (c, e, d, a, b):4,\n",
    "             (e, a, c, b, d):1,\n",
    "             (d, a, b, c, e):7,\n",
    "             (c, a, e, b, d):4,\n",
    "             (e, d, b, c, a):4,\n",
    "             (e, b, a, c, d):2,\n",
    "             (e, b, a, d, c):7,\n",
    "             (b, e, a, d, c):4,\n",
    "             (c, d, a, e, b):12} \n",
    "\n",
    "rankings = list(anon_prof.keys())\n",
    "rcounts = [anon_prof[r] for r in rankings]\n",
    "num_cands = len(rankings[0])\n",
    "\n",
    "prof = Profile(rankings,\n",
    "               num_cands, \n",
    "               rcounts = rcounts, \n",
    "               cmap = cmap)\n",
    "\n",
    "#display the profile\n",
    "prof.display()\n",
    "\n",
    "# display the margin graph\n",
    "display_mg_with_sc(prof)\n",
    "\n",
    "print(\"\\n\")\n",
    "display_winners(prof, split_cycle_faster)\n",
    "display_winners(prof, beat_path_faster)\n",
    "display_winners(prof, ranked_pairs)\n",
    "\n"
   ]
  },
  {
   "cell_type": "markdown",
   "metadata": {},
   "source": [
    "## Stability for Winners\n",
    "\n",
    "A voting method $F$ satisfies **stability for winners** (resp. **strong stability for winners**) if for every profile $\\mathbf{P}$ and $a,b\\in X(\\mathbf{P})$, if $a\\in F(\\mathbf{P}_{-b})$ and $Margin_\\mathbf{P}(a,b)> 0$ (resp. $Margin_\\mathbf{P}(a,b)\\geq 0$), then $a\\in F(\\mathbf{P})$."
   ]
  },
  {
   "cell_type": "code",
   "execution_count": 16,
   "metadata": {},
   "outputs": [
    {
     "name": "stdout",
     "output_type": "stream",
     "text": [
      "Profile without candidate d\n",
      "\n",
      "+---+---+---+\n",
      "| 3 | 3 | 3 |\n",
      "+---+---+---+\n",
      "| c | b | a |\n",
      "| b | a | c |\n",
      "| a | c | b |\n",
      "+---+---+---+\n"
     ]
    },
    {
     "data": {
      "image/png": "[encoded data removed]",
      "text/plain": [
       "<Figure size 432x288 with 1 Axes>"
      ]
     },
     "metadata": {},
     "output_type": "display_data"
    },
    {
     "name": "stdout",
     "output_type": "stream",
     "text": [
      "\n",
      "\n",
      "Split Cycle winners: a, b, c\n",
      "Beat Path winners: a, b, c\n",
      "Minimax winners: a, b, c\n",
      "\n",
      "--------\n",
      "\n",
      "Profile with candidate d\n",
      "\n",
      "+---+---+---+---+\n",
      "| 3 | 2 | 1 | 3 |\n",
      "+---+---+---+---+\n",
      "| c | b | d | d |\n",
      "| b | a | b | a |\n",
      "| a | d | a | c |\n",
      "| d | c | c | b |\n",
      "+---+---+---+---+\n"
     ]
    },
    {
     "data": {
      "image/png": "[encoded data removed]",
      "text/plain": [
       "<Figure size 432x288 with 1 Axes>"
      ]
     },
     "metadata": {},
     "output_type": "display_data"
    },
    {
     "name": "stdout",
     "output_type": "stream",
     "text": [
      "\n",
      "\n",
      "Split Cycle winners: a, b, d\n",
      "Beat Path winner: d\n",
      "Minimax winner: d\n"
     ]
    }
   ],
   "source": [
    "# profile without candidate d\n",
    "print(\"Profile without candidate d\\n\")\n",
    "\n",
    "\n",
    "#candidate name map\n",
    "cmap = cmap_abc\n",
    "\n",
    "anon_prof = {(c, b, a):3,\n",
    "             (b, a, c):3,\n",
    "             (a, c, b):3} \n",
    "\n",
    "rankings = list(anon_prof.keys())\n",
    "rcounts = [anon_prof[r] for r in rankings]\n",
    "num_cands = len(rankings[0])\n",
    "\n",
    "prof = Profile(rankings,\n",
    "               num_cands, \n",
    "               rcounts = rcounts, \n",
    "               cmap = cmap)\n",
    "\n",
    "#display the profile\n",
    "prof.display()\n",
    "\n",
    "# display the margin graph\n",
    "display_mg_with_sc(prof)\n",
    "\n",
    "print(\"\\n\")\n",
    "display_winners(prof, split_cycle_faster)\n",
    "display_winners(prof, beat_path_faster)\n",
    "display_winners(prof, minimax)\n",
    "\n",
    "\n",
    "# profile without candidate d\n",
    "\n",
    "print(\"\\n--------\\n\")\n",
    "\n",
    "# profile with candidate e\n",
    "\n",
    "print(\"Profile with candidate d\\n\")\n",
    "\n",
    "\n",
    "#candidate name map\n",
    "cmap = cmap_abcd\n",
    "\n",
    "anon_prof = {(c, b, a, d):3,\n",
    "             (b, a, d, c):2,\n",
    "             (d, b, a, c):1,\n",
    "             (d, a, c, b):3} \n",
    "\n",
    "\n",
    "rankings = list(anon_prof.keys())\n",
    "rcounts = [anon_prof[r] for r in rankings]\n",
    "num_cands = len(rankings[0])\n",
    "\n",
    "prof = Profile(rankings,\n",
    "               num_cands, \n",
    "               rcounts = rcounts, \n",
    "               cmap = cmap)\n",
    "\n",
    "#display the profile\n",
    "prof.display()\n",
    "\n",
    "# display the margin graph\n",
    "display_mg_with_sc(prof)\n",
    "\n",
    "print(\"\\n\")\n",
    "display_winners(prof, split_cycle_faster)\n",
    "display_winners(prof, beat_path_faster)\n",
    "display_winners(prof, minimax)\n",
    "\n",
    "\n"
   ]
  },
  {
   "cell_type": "markdown",
   "metadata": {},
   "source": [
    "## Amalgamation\n",
    "\n",
    "Two profiles $\\mathbf{P}$ and $\\mathbf{P}'$ are **almagamable** if $V(\\mathbf{P})=V(\\mathbf{P}')$ and for every $x,y\\in X(\\mathbf{P})\\cap X(\\mathbf{P}')$ and $i\\in V(\\mathbf{P})$, $x\\mathbf{P}_i y$ if and only if $x\\mathbf{P}'_i y$. An \\textit{amalgamation of $\\mathbf{P}$ and $\\mathbf{P}'$} is any profile $\\mathbf{Q}: V(\\mathbf{P})\\to \\mathcal{L}(X(\\mathbf{P})\\cup X(\\mathbf{P}'))$ such that for all $i\\in V(\\mathbf{P})$:\n",
    "\n",
    "1. if $x,y\\in X(\\mathbf{P})$, then $x\\mathbf{Q}_i y$ if and only if $x\\mathbf{P}_i y$;\n",
    "2. if $x,y\\in X(\\mathbf{P}')$, then $x\\mathbf{Q}_i y$ if and only if $x\\mathbf{P}'_i y$.\n",
    "\n",
    "A voting method $F$ satisfying **amalgamation** if for any two amalgamable profiles $\\mathbf{P}$ and $\\mathbf{P}'$, if $a\\in F(\\mathbf{P})\\cap F(\\mathbf{P}')$, then for any amalgamation $\\mathbf{Q}$ of $\\mathbf{P}$ and $\\mathbf{P}'$, $a\\in F(\\mathbf{Q})$.\n",
    "\n",
    "Split Cycle satisfies amalgamation."
   ]
  },
  {
   "cell_type": "code",
   "execution_count": 17,
   "metadata": {},
   "outputs": [
    {
     "name": "stdout",
     "output_type": "stream",
     "text": [
      "Profile 1\n",
      "\n",
      "+---+---+---+---+\n",
      "| 3 | 2 | 1 | 3 |\n",
      "+---+---+---+---+\n",
      "| c | b | d | d |\n",
      "| b | a | b | a |\n",
      "| a | d | a | c |\n",
      "| d | c | c | b |\n",
      "+---+---+---+---+\n"
     ]
    },
    {
     "data": {
      "image/png": "[encoded data removed]",
      "text/plain": [
       "<Figure size 432x288 with 1 Axes>"
      ]
     },
     "metadata": {},
     "output_type": "display_data"
    },
    {
     "name": "stdout",
     "output_type": "stream",
     "text": [
      "\n",
      "\n",
      "Split Cycle winners: a, b, d\n",
      "Beat Path winner: d\n",
      "Minimax winner: d\n",
      "Ranked Pairs winners: a, b, d\n",
      "\n",
      "Profile 2\n",
      "\n",
      "+---+---+---+---+\n",
      "| 3 | 2 | 1 | 3 |\n",
      "+---+---+---+---+\n",
      "| c | b | d | d |\n",
      "| b | a | b | a |\n",
      "| a | d | a | c |\n",
      "| d | c | c | b |\n",
      "+---+---+---+---+\n"
     ]
    },
    {
     "data": {
      "image/png": "[encoded data removed]",
      "text/plain": [
       "<Figure size 432x288 with 1 Axes>"
      ]
     },
     "metadata": {},
     "output_type": "display_data"
    },
    {
     "name": "stdout",
     "output_type": "stream",
     "text": [
      "\n",
      "\n",
      "Split Cycle winners: a, b, d\n",
      "Beat Path winner: d\n",
      "Minimax winner: d\n",
      "Ranked Pairs winners: a, b, d\n"
     ]
    }
   ],
   "source": [
    "\n",
    "\n",
    "print(\"Profile 1\\n\")\n",
    "cmap1 = cmap_abcd\n",
    "\n",
    "anon_prof1 = {(d, a, c, b):4,\n",
    "             (d, c, b, a):2,\n",
    "             (c, b, d, a):1,\n",
    "             (c, b, a, d):1,\n",
    "             (b, a, c, d):4} \n",
    "\n",
    "rankings = list(anon_prof.keys())\n",
    "rcounts = [anon_prof[r] for r in rankings]\n",
    "num_cands = len(rankings[0])\n",
    "\n",
    "prof1 = Profile(rankings,\n",
    "               num_cands, \n",
    "               rcounts = rcounts, \n",
    "               cmap = cmap)\n",
    "\n",
    "#display the profile\n",
    "prof1.display()\n",
    "\n",
    "# display the margin graph\n",
    "display_mg_with_sc(prof1)\n",
    "\n",
    "print(\"\\n\")\n",
    "display_winners(prof1, split_cycle_faster)\n",
    "display_winners(prof1, beat_path_faster)\n",
    "display_winners(prof1, minimax)\n",
    "display_winners(prof1, ranked_pairs)\n",
    "\n",
    "\n",
    "## Profile 2\n",
    "\n",
    "print(\"\\nProfile 2\\n\")\n",
    "\n",
    "cmap2 = {b:\"b\", d:\"d\", e:\"e\", f:\"f\"}\n",
    "\n",
    "anon_prof2 = {(d, f, e, b):4,\n",
    "             (f, e, d, b):2,\n",
    "             (b, f, e, d):2,\n",
    "             (b, e, d, f):4} \n",
    "\n",
    "rankings = list(anon_prof.keys())\n",
    "rcounts = [anon_prof[r] for r in rankings]\n",
    "num_cands = len(rankings[0])\n",
    "\n",
    "prof2 = Profile(rankings,\n",
    "               num_cands, \n",
    "               rcounts = rcounts, \n",
    "               cmap = cmap)\n",
    "\n",
    "#display the profile\n",
    "prof1.display()\n",
    "\n",
    "# display the margin graph\n",
    "display_mg_with_sc(prof2)\n",
    "\n",
    "print(\"\\n\")\n",
    "display_winners(prof2, split_cycle)\n",
    "display_winners(prof2, beat_path)\n",
    "display_winners(prof2, minimax)\n",
    "display_winners(prof2, ranked_pairs)\n",
    "\n"
   ]
  },
  {
   "cell_type": "code",
   "execution_count": 18,
   "metadata": {},
   "outputs": [
    {
     "name": "stdout",
     "output_type": "stream",
     "text": [
      "+---+---+---+---+---+---+---+\n",
      "| 1 | 3 | 2 | 1 | 1 | 3 | 1 |\n",
      "+---+---+---+---+---+---+---+\n",
      "| d | d | f | c | c | b | b |\n",
      "| f | a | e | b | b | e | a |\n",
      "| a | f | d | f | a | a | e |\n",
      "| c | c | c | e | f | c | c |\n",
      "| e | e | b | d | e | d | d |\n",
      "| b | b | a | a | d | f | f |\n",
      "+---+---+---+---+---+---+---+\n"
     ]
    },
    {
     "data": {
      "image/png": "[encoded data removed]",
      "text/plain": [
       "<Figure size 432x288 with 1 Axes>"
      ]
     },
     "metadata": {},
     "output_type": "display_data"
    },
    {
     "name": "stdout",
     "output_type": "stream",
     "text": [
      "\n",
      "\n",
      "Split Cycle winners: a, b, c, d, e\n",
      "Beat Path winners: a, b, c\n",
      "Minimax winners: a, b, c, d, e, f\n"
     ]
    }
   ],
   "source": [
    "# Amalgamation of the two profiles\n",
    "\n",
    "\n",
    "cmap = cmap_abcdef\n",
    "\n",
    "anon_prof = {(d, f, a, c, e, b):1,\n",
    "             (d, a, f, c, e, b):3,\n",
    "             (f, e, d, c, b, a):2,\n",
    "             (c, b, f, e, d, a):1,\n",
    "             (c, b, a, f, e, d):1,\n",
    "             (b, e, a, c, d, f):3,\n",
    "             (b, a, e, c, d, f):1} \n",
    "\n",
    "rankings = list(anon_prof.keys())\n",
    "rcounts = [anon_prof[r] for r in rankings]\n",
    "num_cands = len(rankings[0])\n",
    "\n",
    "prof = Profile(rankings,\n",
    "               num_cands, \n",
    "               rcounts = rcounts, \n",
    "               cmap = cmap)\n",
    "\n",
    "#display the profile\n",
    "prof.display()\n",
    "\n",
    "# display the margin graph\n",
    "display_mg_with_sc(prof)\n",
    "\n",
    "print(\"\\n\")\n",
    "display_winners(prof, split_cycle_faster)\n",
    "display_winners(prof, beat_path_faster)\n",
    "display_winners(prof, minimax)\n",
    "# Uncomment to see the Ranked Pairs winners (Warning: It takes a really long time to run!)\n",
    "#display_winners(prof, ranked_pairs)\n"
   ]
  },
  {
   "cell_type": "markdown",
   "metadata": {},
   "source": [
    "## Smith and Schwartz Criteria\n",
    "\n",
    "\n",
    "Let $\\mathbf{P}$ be a profile and $S\\subseteq X(\\mathbf{P})$. Then $S$ is $\\to_\\mathbf{P}$**-dominant** if for all $x\\in S$ and $y\\in X\\setminus S$, we have $x\\to_\\mathbf{P}y$. Define\n",
    "$GETCHA(\\mathbf{P})=\\bigcap \\{S\\subseteq X\\mid S$ is $\\to_\\mathbf{P}$-dominant$\\}.$\n",
    "\n",
    "\n",
    "We also call the Smith set the GETCHA set (GETCHA stands for 'generalized top-choice assumption').\n",
    "\n",
    "A voting method $F$ satisfies the **Smith criterion** if for any profile $\\mathbf{P}$, $F(\\mathbf{P})\\subseteq GETCHA(\\mathbf{P})$.  \n",
    " \n",
    "\n",
    "\n",
    "\n",
    "\n",
    "Let $\\mathbf{P}$ be a profile and $S\\subseteq X(\\mathbf{P})$. Then $S$ is **$\\to_\\mathbf{P}$-undominated** if for all $x\\in S$ and $y\\in X\\setminus S$, we have $y\\not\\to_\\mathbf{P}x$. Define $GOCHA(\\mathbf{P})=\\bigcup \\{S\\subseteq X\\mid S$ is $\\to_\\mathbf{P}$-undominated and no $S'\\subsetneq S$ is $\\to_\\mathbf{P}$-undominated$\\}.$\n",
    "\n",
    "\n",
    "The GOCHA set ('GOCHA' stands for 'generalized optimal choice axiom') is also called the Schwartz set.\n",
    "\n",
    "**Lemma (Schwartz 1986, Corollary 6.2.2**.   Let $\\mathbf{P}$ be any profile, and let $\\to_\\mathbf{P}^*$ be the transitive closure of $\\to_\\mathbf{P}$, i.e., $a\\to_\\mathbf{P}^*b$ if and only if there are $x_1,\\dots , x_n\\in X(\\mathbf{P})$ with $a=x_1$ and $b=x_n$ such that $x_1\\to_\\mathbf{P}\\dots \\to_\\mathbf{P}x_n$. Then $GOCHA(\\mathbf{P})=\\{x\\in X(\\mathbf{P})\\ \\mid\\ $ there is no $y\\in X(\\mathbf{P}): y\\to_\\mathbf{P}^*x$  and $x\\not\\to_\\mathbf{P}^*y\\}.$\n",
    "\n",
    "\n",
    "A voting method $F$ satisfies the **Schwartz criterion** if for any profile $\\mathbf{P}$, $F(\\mathbf{P})\\subseteq GOCHA(\\mathbf{P})$.\n",
    "\n",
    "\n",
    "Split Cycle satisfies the Smith criterion, but does not satisfy the Schwartz criterion.\n",
    "\n"
   ]
  },
  {
   "cell_type": "code",
   "execution_count": 19,
   "metadata": {},
   "outputs": [
    {
     "name": "stdout",
     "output_type": "stream",
     "text": [
      "+---+---+---+---+---+\n",
      "| 4 | 2 | 1 | 1 | 4 |\n",
      "+---+---+---+---+---+\n",
      "| d | d | c | c | b |\n",
      "| a | c | b | b | a |\n",
      "| c | b | d | a | c |\n",
      "| b | a | a | d | d |\n",
      "+---+---+---+---+---+\n"
     ]
    },
    {
     "data": {
      "image/png": "[encoded data removed]",
      "text/plain": [
       "<Figure size 432x288 with 1 Axes>"
      ]
     },
     "metadata": {},
     "output_type": "display_data"
    },
    {
     "name": "stdout",
     "output_type": "stream",
     "text": [
      "Top Cycle winners: a, b, c, d\n",
      "GOCHA winner: d\n",
      "Split Cycle winners: b, c, d\n"
     ]
    }
   ],
   "source": [
    "# Example illustrating that Split Cycle does not satisfy the Schwartz criteria\n",
    "\n",
    "\n",
    "cmap = cmap_abcd\n",
    "\n",
    "anon_prof = {(d, a, c, b):4,\n",
    "             (d, c, b, a):2,\n",
    "             (c, b, d, a):1,\n",
    "             (c, b, a, d):1,\n",
    "             (b, a, c, d):4} \n",
    "\n",
    "rankings = list(anon_prof.keys())\n",
    "rcounts = [anon_prof[r] for r in rankings]\n",
    "num_cands = len(rankings[0])\n",
    "\n",
    "prof = Profile(rankings,\n",
    "               num_cands, \n",
    "               rcounts = rcounts, \n",
    "               cmap = cmap)\n",
    "\n",
    "#display the profile\n",
    "prof.display()\n",
    "\n",
    "# display the margin graph\n",
    "display_mg_with_sc(prof)\n",
    "\n",
    "display_winners(prof, getcha)\n",
    "display_winners(prof, gocha)\n",
    "display_winners(prof, split_cycle_faster)\n"
   ]
  },
  {
   "cell_type": "markdown",
   "metadata": {},
   "source": [
    "## Single-Voter Resolvability\n",
    "\n",
    "A voting method $F$ satisfies **Single-Voter resolvability** if for any profile $\\mathbf{P}$, if $|F(\\mathbf{P})|>1$, then for any $x\\in F(\\mathbf{P})$, there is a profile $\\mathbf{Q}$ with $V(\\mathbf{P})\\cap V(\\mathbf{Q})=\\varnothing$ and $|V(\\mathbf{Q})|=1$ such that $F(\\mathbf{P}+\\mathbf{Q})=\\{x\\}$.\n",
    "\n",
    "Split Cycle does not satisfy single-voter resolvability.\n"
   ]
  },
  {
   "cell_type": "code",
   "execution_count": 20,
   "metadata": {},
   "outputs": [
    {
     "name": "stdout",
     "output_type": "stream",
     "text": [
      "+---+---+---+---+\n",
      "| 3 | 2 | 1 | 3 |\n",
      "+---+---+---+---+\n",
      "| c | b | d | d |\n",
      "| b | a | b | a |\n",
      "| a | d | a | c |\n",
      "| d | c | c | b |\n",
      "+---+---+---+---+\n"
     ]
    },
    {
     "data": {
      "image/png": "[encoded data removed]",
      "text/plain": [
       "<Figure size 432x288 with 1 Axes>"
      ]
     },
     "metadata": {},
     "output_type": "display_data"
    },
    {
     "name": "stdout",
     "output_type": "stream",
     "text": [
      "\n",
      "\n",
      "Split Cycle winners: a, b, d\n"
     ]
    }
   ],
   "source": [
    "\n",
    "# Example showing Split Cycle does not satisfy single-voter resolvability\n",
    "cmap = cmap_abcd\n",
    "\n",
    "anon_prof = {(c, b, a, d):3,\n",
    "             (b, a, d, c):2,\n",
    "             (d, b, a, c):1,\n",
    "             (d, a, c, b):3} \n",
    "\n",
    "\n",
    "rankings = list(anon_prof.keys())\n",
    "rcounts = [anon_prof[r] for r in rankings]\n",
    "num_cands = len(rankings[0])\n",
    "\n",
    "prof = Profile(rankings,\n",
    "               num_cands, \n",
    "               rcounts = rcounts, \n",
    "               cmap = cmap)\n",
    "\n",
    "#display the profile\n",
    "prof.display()\n",
    "\n",
    "# display the margin graph\n",
    "display_mg_with_sc(prof)\n",
    "\n",
    "print(\"\\n\")\n",
    "display_winners(prof, split_cycle_faster)\n"
   ]
  },
  {
   "cell_type": "code",
   "execution_count": 21,
   "metadata": {
    "scrolled": false
   },
   "outputs": [
    {
     "name": "stdout",
     "output_type": "stream",
     "text": [
      "The original profile: \n",
      "\n",
      "+---+---+---+---+\n",
      "| 3 | 2 | 1 | 3 |\n",
      "+---+---+---+---+\n",
      "| c | b | d | d |\n",
      "| b | a | b | a |\n",
      "| a | d | a | c |\n",
      "| d | c | c | b |\n",
      "+---+---+---+---+\n",
      "\n",
      "Split Cycle winners: a, b, d\n",
      "\n",
      "Possible winning sets by adding a single voter to the above profile: \n",
      "\t{a, b, d} (the voter can use 4 different rankings to get this outcome)\n",
      "\t{a, d} (the voter can use 6 different rankings to get this outcome)\n",
      "\t{b, d} (the voter can use 6 different rankings to get this outcome)\n",
      "\t{b, c, d} (the voter can use 2 different rankings to get this outcome)\n",
      "\t{a, c, d} (the voter can use 2 different rankings to get this outcome)\n",
      "\t{c, d} (the voter can use 2 different rankings to get this outcome)\n",
      "\t{d} (the voter can use 2 different rankings to get this outcome)\n"
     ]
    }
   ],
   "source": [
    "winning_sets = dict()\n",
    "\n",
    "all_rankings = permutations(prof.candidates)\n",
    "for r in all_rankings:\n",
    "    new_prof = Profile(\n",
    "        [tuple(r) for r in prof._rankings] + [tuple(r)],\n",
    "        prof.num_cands,\n",
    "        list(prof._rcounts) + [1],\n",
    "        cmap = prof.cmap\n",
    "    )\n",
    "    sc_winners = split_cycle_faster(new_prof)\n",
    "    if tuple(sc_winners) in winning_sets.keys():\n",
    "        winning_sets[tuple(sc_winners)] += 1\n",
    "    else:\n",
    "        winning_sets.update({tuple(sc_winners): 1})\n",
    "        \n",
    "print(\"The original profile: \\n\")\n",
    "prof.display()\n",
    "\n",
    "print()\n",
    "\n",
    "display_winners(prof, split_cycle_faster) \n",
    "\n",
    "print(\"\\nPossible winning sets by adding a single voter to the above profile: \")\n",
    "for ws in winning_sets.keys():\n",
    "    print(\"\\t{} (the voter can use {} different rankings to get this outcome)\".format(\"{\" + \", \".join([cmap[_] for _ in ws]) + \"}\",\n",
    "                                                                                    str(winning_sets[ws])))\n",
    "\n"
   ]
  },
  {
   "cell_type": "markdown",
   "metadata": {},
   "source": [
    "## Positive/Negative Involvement\n",
    "\n",
    "$F$ satisfies **positive involvement** if for any profiles $\\mathbf{P}$ and $\\mathbf{P}'$ with $X(\\mathbf{P})=X(\\mathbf{P}')$ and $|V(\\mathbf{P}')|=1$, if $x\\in F(\\mathbf{P})$ and for $i\\in V(\\mathbf{P}')$, $x \\mathbf{P}_i' y$ for all $y\\in X(\\mathbf{P}')\\setminus \\{x\\}$, then $x\\in F(\\mathbf{P}+\\mathbf{P}')$.\n",
    "\n",
    "$F$ satisfies **negative involvement** if for any profiles $\\mathbf{P}$ and $\\mathbf{P}'$ with $X(\\mathbf{P})=X(\\mathbf{P}')$ and $|V(\\mathbf{P}')|=1$, if $x\\not\\in F(\\mathbf{P})$ and for $i\\in V(\\mathbf{P}')$, $y \\mathbf{P}_i' x$ for all $y\\in X(\\mathbf{P}')\\setminus \\{x\\}$, then $x\\not\\in F(\\mathbf{P}+\\mathbf{P}')$.\n",
    "\n",
    "Split Cycle satisfies positive and negative involvement. Beat Path does not satisfy either positive involvement or negative involvement.  "
   ]
  },
  {
   "cell_type": "code",
   "execution_count": 22,
   "metadata": {},
   "outputs": [
    {
     "name": "stdout",
     "output_type": "stream",
     "text": [
      "+---+---+---+---+---+---+---+---+\n",
      "| 1 | 1 | 1 | 1 | 1 | 1 | 1 | 1 |\n",
      "+---+---+---+---+---+---+---+---+\n",
      "| a | e | e | d | b | d | c | b |\n",
      "| c | a | d | a | e | c | e | d |\n",
      "| b | d | a | b | a | b | b | c |\n",
      "| d | c | c | e | c | e | d | e |\n",
      "| e | b | b | c | d | a | a | a |\n",
      "+---+---+---+---+---+---+---+---+\n"
     ]
    },
    {
     "data": {
      "image/png": "[encoded data removed]",
      "text/plain": [
       "<Figure size 432x288 with 1 Axes>"
      ]
     },
     "metadata": {},
     "output_type": "display_data"
    },
    {
     "name": "stdout",
     "output_type": "stream",
     "text": [
      "\n",
      "\n",
      "Split Cycle winners: b, d, e\n",
      "Beat Path winner: d\n",
      "\n",
      "A new profile with 1 voter with ranking a c b d e\n",
      "+---+---+---+---+---+---+---+---+\n",
      "| 2 | 1 | 1 | 1 | 1 | 1 | 1 | 1 |\n",
      "+---+---+---+---+---+---+---+---+\n",
      "| a | e | e | d | b | d | c | b |\n",
      "| c | a | d | a | e | c | e | d |\n",
      "| b | d | a | b | a | b | b | c |\n",
      "| d | c | c | e | c | e | d | e |\n",
      "| e | b | b | c | d | a | a | a |\n",
      "+---+---+---+---+---+---+---+---+\n"
     ]
    },
    {
     "data": {
      "image/png": "[encoded data removed]",
      "text/plain": [
       "<Figure size 432x288 with 1 Axes>"
      ]
     },
     "metadata": {},
     "output_type": "display_data"
    },
    {
     "name": "stdout",
     "output_type": "stream",
     "text": [
      "\n",
      "\n",
      "Split Cycle winners: a, b, c, d, e\n",
      "Beat Path winners: a, b, c, d, e\n"
     ]
    }
   ],
   "source": [
    "\n",
    "cmap = cmap_abcde\n",
    "\n",
    "anon_prof1 = {(a, c, b, d, e):1,\n",
    "              (e, a, d, c, b):1,\n",
    "              (e, d, a, c, b):1,\n",
    "              (d, a, b, e, c):1,\n",
    "              (b, e, a, c, d):1, \n",
    "              (d, c, b, e, a):1,\n",
    "              (c, e, b, d, a):1,\n",
    "              (b, d, c, e, a):1} \n",
    "\n",
    "rankings = list(anon_prof1.keys())\n",
    "rcounts = [anon_prof1[r] for r in rankings]\n",
    "num_cands = len(rankings[0])\n",
    "\n",
    "prof1 = Profile(rankings,\n",
    "               num_cands, \n",
    "               rcounts = rcounts, \n",
    "               cmap = cmap)\n",
    "\n",
    "#display the profile\n",
    "prof1.display()\n",
    "\n",
    "# display the margin graph\n",
    "display_mg_with_sc(prof1)\n",
    "\n",
    "print(\"\\n\")\n",
    "display_winners(prof1, split_cycle_faster)\n",
    "display_winners(prof1, beat_path_faster)\n",
    "\n",
    "\n",
    "print(f\"\\nA new profile with 1 voter with ranking a c b d e\")\n",
    "anon_prof2 = {(a, c, b, d, e):2,\n",
    "              (e, a, d, c, b):1,\n",
    "              (e, d, a, c, b):1,\n",
    "              (d, a, b, e, c):1,\n",
    "              (b, e, a, c, d):1, \n",
    "              (d, c, b, e, a):1,\n",
    "              (c, e, b, d, a):1,\n",
    "              (b, d, c, e, a):1} \n",
    "\n",
    "rankings = list(anon_prof2.keys())\n",
    "rcounts = [anon_prof2[r] for r in rankings]\n",
    "num_cands = len(rankings[0])\n",
    "\n",
    "prof2 = Profile(rankings,\n",
    "               num_cands, \n",
    "               rcounts = rcounts, \n",
    "               cmap = cmap)\n",
    "\n",
    "#display the profile\n",
    "prof2.display()\n",
    "\n",
    "# display the margin graph\n",
    "display_mg_with_sc(prof2)\n",
    "\n",
    "print(\"\\n\")\n",
    "display_winners(prof2, split_cycle_faster)\n",
    "display_winners(prof2, beat_path_faster)\n"
   ]
  },
  {
   "cell_type": "markdown",
   "metadata": {},
   "source": [
    "## GETCHA fails Pareto  (Appendix C.4)"
   ]
  },
  {
   "cell_type": "code",
   "execution_count": 23,
   "metadata": {},
   "outputs": [
    {
     "name": "stdout",
     "output_type": "stream",
     "text": [
      "+---+---+---+\n",
      "| 1 | 1 | 1 |\n",
      "+---+---+---+\n",
      "| a | b | c |\n",
      "| x | c | a |\n",
      "| b | a | x |\n",
      "| c | x | b |\n",
      "+---+---+---+\n"
     ]
    },
    {
     "data": {
      "image/png": "[encoded data removed]",
      "text/plain": [
       "<Figure size 432x288 with 1 Axes>"
      ]
     },
     "metadata": {},
     "output_type": "display_data"
    },
    {
     "name": "stdout",
     "output_type": "stream",
     "text": [
      "The number of voters that prefer a over x is 3\n",
      "Top Cycle winners: a, b, c, x\n",
      "GOCHA winners: a, b, c, x\n"
     ]
    }
   ],
   "source": [
    "# Example profile from the chapter \"Weighted Tournament Solutions\" by Felix Fischer, Olivier Hudry, and Rolf Niedermeier\n",
    "# in the Handbook of Computational Social Choice\n",
    "\n",
    "x=3\n",
    "\n",
    "cmap = {a:\"a\", b:\"b\", c:\"c\", x:\"x\"}\n",
    "\n",
    "anon_prof = {(a, x, b, c): 1,\n",
    "             (b, c, a, x): 1,\n",
    "             (c, a, x, b): 1} \n",
    "\n",
    "rankings = list(anon_prof.keys())\n",
    "rcounts = [anon_prof[r] for r in rankings]\n",
    "num_cands = len(rankings[0])\n",
    "\n",
    "prof = Profile(rankings,\n",
    "               num_cands, \n",
    "               rcounts = rcounts, \n",
    "               cmap = cmap)\n",
    "\n",
    "#display the profile\n",
    "prof.display()\n",
    "\n",
    "# display the margin graph\n",
    "display_mg_with_sc(prof)\n",
    "\n",
    "print(\"The number of voters that prefer {} over {} is {}\".format(cmap[a], cmap[x], prof.support(a,x)))\n",
    "display_winners(prof, getcha)\n",
    "display_winners(prof, gocha)\n",
    "\n",
    "\n",
    "\n",
    "\n"
   ]
  },
  {
   "cell_type": "markdown",
   "metadata": {},
   "source": [
    "## GOCHA fails positive involvement (Appendix C.5)"
   ]
  },
  {
   "cell_type": "code",
   "execution_count": 24,
   "metadata": {},
   "outputs": [
    {
     "name": "stdout",
     "output_type": "stream",
     "text": [
      "+---+---+---+\n",
      "| 4 | 2 | 3 |\n",
      "+---+---+---+\n",
      "| y | x | z |\n",
      "| x | z | y |\n",
      "| z | y | x |\n",
      "+---+---+---+\n"
     ]
    },
    {
     "data": {
      "image/png": "[encoded data removed]",
      "text/plain": [
       "<Figure size 432x288 with 1 Axes>"
      ]
     },
     "metadata": {},
     "output_type": "display_data"
    },
    {
     "name": "stdout",
     "output_type": "stream",
     "text": [
      "Top Cycle winners: x, y, z\n",
      "GOCHA winners: x, y, z\n",
      "+---+---+---+---+\n",
      "| 4 | 2 | 3 | 1 |\n",
      "+---+---+---+---+\n",
      "| y | x | z | x |\n",
      "| x | z | y | y |\n",
      "| z | y | x | z |\n",
      "+---+---+---+---+\n"
     ]
    },
    {
     "data": {
      "image/png": "[encoded data removed]",
      "text/plain": [
       "<Figure size 432x288 with 1 Axes>"
      ]
     },
     "metadata": {},
     "output_type": "display_data"
    },
    {
     "name": "stdout",
     "output_type": "stream",
     "text": [
      "Top Cycle winners: x, y, z\n",
      "GOCHA winner: y\n"
     ]
    }
   ],
   "source": [
    "x=0\n",
    "y=1\n",
    "z=2\n",
    "\n",
    "cand_names = [x, y, z]\n",
    "cmap = {x:\"x\", y:\"y\", z:\"z\"}\n",
    "\n",
    "anon_prof1 = {(y,x,z):4,\n",
    "              (x,z,y):2,\n",
    "              (z,y,x):3} \n",
    "\n",
    "rankings = list(anon_prof1.keys())\n",
    "rcounts = [anon_prof1[r] for r in rankings]\n",
    "num_cands = len(rankings[0])\n",
    "\n",
    "prof1 = Profile(rankings,\n",
    "               num_cands, \n",
    "               rcounts = rcounts, \n",
    "               cmap = cmap)\n",
    "\n",
    "#display the profile\n",
    "prof1.display()\n",
    "\n",
    "# display the margin graph\n",
    "display_mg_with_sc(prof1)\n",
    "\n",
    "\n",
    "display_winners(prof1, getcha)\n",
    "display_winners(prof1, gocha)\n",
    "\n",
    "\n",
    "anon_prof2 = {(y,x,z):4,\n",
    "              (x,z,y):2,\n",
    "              (z,y,x):3,\n",
    "              (x,y,z):1} \n",
    "\n",
    "rankings = list(anon_prof2.keys())\n",
    "rcounts = [anon_prof2[r] for r in rankings]\n",
    "num_cands = len(rankings[0])\n",
    "\n",
    "prof2 = Profile(rankings,\n",
    "               num_cands, \n",
    "               rcounts = rcounts, \n",
    "               cmap = cmap)\n",
    "\n",
    "#display the profile\n",
    "prof2.display()\n",
    "\n",
    "# display the margin graph\n",
    "display_mg_with_sc(prof2)\n",
    "\n",
    "\n",
    "display_winners(prof2, getcha)\n",
    "display_winners(prof2, gocha)\n",
    "\n",
    "\n"
   ]
  },
  {
   "cell_type": "markdown",
   "metadata": {},
   "source": [
    "## Additional  Examples (not in the paper)\n",
    "\n"
   ]
  },
  {
   "cell_type": "code",
   "execution_count": 25,
   "metadata": {},
   "outputs": [
    {
     "name": "stdout",
     "output_type": "stream",
     "text": [
      "+---+---+---+---+---+---+\n",
      "| 3 | 3 | 4 | 4 | 1 | 1 |\n",
      "+---+---+---+---+---+---+\n",
      "| b | d | b | a | a | e |\n",
      "| d | a | c | e | b | c |\n",
      "| a | c | e | c | c | d |\n",
      "| e | e | d | d | e | a |\n",
      "| c | b | a | b | d | b |\n",
      "+---+---+---+---+---+---+\n"
     ]
    },
    {
     "data": {
      "image/png": "[encoded data removed]",
      "text/plain": [
       "<Figure size 432x288 with 1 Axes>"
      ]
     },
     "metadata": {},
     "output_type": "display_data"
    },
    {
     "name": "stdout",
     "output_type": "stream",
     "text": [
      "Split Cycle winner: d\n",
      "Beat Path winner: d\n",
      "Minimax winner: b\n",
      "Top Cycle winners: a, b, c, d, e\n",
      "GOCHA winners: a, c, d, e\n",
      "Instant Runoff winner: a\n",
      "Plurality winner: b\n"
     ]
    }
   ],
   "source": [
    "# Example profile from the chapter \"Weighted Tournament Solutions\" by Felix Fischer, Olivier Hudry, and Rolf Niedermeier\n",
    "# in the Handbook of Computational Social Choice\n",
    "\n",
    "cmap = cmap_abcde\n",
    "\n",
    "anon_prof = {(b, d, a, e, c): 3,\n",
    "             (d, a, c, e, b): 3,\n",
    "             (b, c, e, d, a): 4,\n",
    "             (a, e, c, d, b): 4,\n",
    "             (a, b, c, e, d): 1,\n",
    "             (e, c, d, a, b): 1} \n",
    "\n",
    "rankings = list(anon_prof.keys())\n",
    "rcounts = [anon_prof[r] for r in rankings]\n",
    "num_cands = len(rankings[0])\n",
    "\n",
    "prof = Profile(rankings,\n",
    "               num_cands, \n",
    "               rcounts = rcounts, \n",
    "               cmap = cmap)\n",
    "\n",
    "#display the profile\n",
    "prof.display()\n",
    "\n",
    "# display the margin graph\n",
    "display_mg_with_sc(prof)\n",
    "\n",
    "display_winners(prof, split_cycle_faster)\n",
    "## Uncomment for Ranked Pairs winner (Warning: takes a really long time!)\n",
    "#display_winners(prof, ranked_pairs)\n",
    "display_winners(prof, beat_path_faster)\n",
    "display_winners(prof, minimax)\n",
    "display_winners(prof, getcha)\n",
    "display_winners(prof, gocha)\n",
    "display_winners(prof, hare)\n",
    "display_winners(prof, plurality)\n",
    "\n"
   ]
  },
  {
   "cell_type": "code",
   "execution_count": 26,
   "metadata": {},
   "outputs": [
    {
     "name": "stdout",
     "output_type": "stream",
     "text": [
      "+---+---+---+---+---+---+---+---+\n",
      "| 1 | 1 | 1 | 1 | 1 | 2 | 1 | 1 |\n",
      "+---+---+---+---+---+---+---+---+\n",
      "| b | d | b | c | c | d | a | a |\n",
      "| d | a | c | a | b | c | b | c |\n",
      "| a | c | d | b | d | a | d | b |\n",
      "| c | b | a | d | a | b | c | d |\n",
      "+---+---+---+---+---+---+---+---+\n"
     ]
    },
    {
     "data": {
      "image/png": "[encoded data removed]",
      "text/plain": [
       "<Figure size 432x288 with 1 Axes>"
      ]
     },
     "metadata": {},
     "output_type": "display_data"
    },
    {
     "name": "stdout",
     "output_type": "stream",
     "text": [
      "Split Cycle winners: a, c, d\n",
      "Beat Path winner: c\n",
      "Minimax winner: c\n",
      "Top Cycle winners: a, b, c, d\n",
      "GOCHA winners: a, b, c, d\n",
      "Instant Runoff winner: d\n",
      "Plurality winner: d\n"
     ]
    }
   ],
   "source": [
    "# Example with different Split Cycle, Beat Path and Ranked Pairs winners\n",
    "\n",
    "cmap = cmap_abcd\n",
    "\n",
    "anon_prof = {(b, d, a, c):1,\n",
    "             (d, a, c, b):1,\n",
    "             (b, c, d, a):1,\n",
    "             (c, a, b, d):1,\n",
    "             (c, b, d, a):1,\n",
    "             (d, c, a, b):2,\n",
    "             (a, b, d, c):1,\n",
    "             (a, c, b, d):1} \n",
    "\n",
    "rankings = list(anon_prof.keys())\n",
    "rcounts = [anon_prof[r] for r in rankings]\n",
    "num_cands = len(rankings[0])\n",
    "\n",
    "prof = Profile(rankings,\n",
    "               num_cands, \n",
    "               rcounts = rcounts, \n",
    "               cmap = cmap)\n",
    "\n",
    "#display the profile\n",
    "prof.display()\n",
    "\n",
    "# display the margin graph\n",
    "display_mg_with_sc(prof)\n",
    "\n",
    "display_winners(prof, split_cycle_faster)\n",
    "## Uncomment for Ranked Pairs winner (Warning: takes a really long time!)\n",
    "#display_winners(prof, ranked_pairs)\n",
    "display_winners(prof, beat_path_faster)\n",
    "display_winners(prof, minimax)\n",
    "display_winners(prof, getcha)\n",
    "display_winners(prof, gocha)\n",
    "display_winners(prof, hare)\n",
    "display_winners(prof, plurality)\n",
    "\n"
   ]
  },
  {
   "cell_type": "code",
   "execution_count": 27,
   "metadata": {},
   "outputs": [
    {
     "name": "stdout",
     "output_type": "stream",
     "text": [
      "+---+---+---+---+---+---+---+---+---+---+---+---+---+---+---+---+---+\n",
      "| 1 | 1 | 1 | 1 | 2 | 1 | 1 | 1 | 1 | 1 | 1 | 1 | 2 | 2 | 1 | 1 | 1 |\n",
      "+---+---+---+---+---+---+---+---+---+---+---+---+---+---+---+---+---+\n",
      "| d | e | c | b | b | c | b | a | b | a | a | d | e | c | d | e | a |\n",
      "| b | d | b | a | e | a | e | d | a | e | d | c | d | e | b | d | d |\n",
      "| a | c | a | e | a | d | c | b | e | d | b | e | b | b | c | c | e |\n",
      "| c | a | e | c | d | b | a | c | d | b | e | a | a | a | a | b | b |\n",
      "| e | b | d | d | c | e | d | e | c | c | c | b | c | d | e | a | c |\n",
      "+---+---+---+---+---+---+---+---+---+---+---+---+---+---+---+---+---+\n"
     ]
    },
    {
     "data": {
      "image/png": "[encoded data removed]",
      "text/plain": [
       "<Figure size 432x288 with 1 Axes>"
      ]
     },
     "metadata": {},
     "output_type": "display_data"
    },
    {
     "name": "stdout",
     "output_type": "stream",
     "text": [
      "Split Cycle winners: b, e\n",
      "Beat Path winner: e\n",
      "Minimax winner: e\n",
      "Top Cycle winners: a, b, d, e\n",
      "GOCHA winners: a, b, d, e\n",
      "Instant Runoff winner: b\n",
      "Plurality winner: b\n"
     ]
    }
   ],
   "source": [
    "cmap = cmap_abcde\n",
    "\n",
    "anon_prof = {(d, b, a, c, e):1,\n",
    "             (e, d, c, a, b):1,\n",
    "             (c, b, a, e, d):1,\n",
    "             (b, a, e, c, d):1,\n",
    "             (b, e, a, d, c):2,\n",
    "             (c, a, d, b, e):1,\n",
    "             (b, e, c, a, d):1,\n",
    "             (a, d, b, c, e):1, \n",
    "             (b, a, e, d, c):1, \n",
    "             (a, e, d, b, c):1, \n",
    "             (a, e, d, b, c):1, \n",
    "             (a, d, b, e, c):1, \n",
    "             (d, c, e, a, b):1, \n",
    "             (e, d, b, a, c):2, \n",
    "             (c, e, b, a, d):2, \n",
    "             (d, b, c, a, e):1, \n",
    "             (e, d, c, b, a):1, \n",
    "             (a, d, e, b, c):1} \n",
    "\n",
    "rankings = list(anon_prof.keys())\n",
    "rcounts = [anon_prof[r] for r in rankings]\n",
    "num_cands = len(rankings[0])\n",
    "\n",
    "prof = Profile(rankings,\n",
    "               num_cands, \n",
    "               rcounts = rcounts, \n",
    "               cmap = cmap)\n",
    "\n",
    "#display the profile\n",
    "prof.display()\n",
    "\n",
    "# display the margin graph\n",
    "display_mg_with_sc(prof)\n",
    "\n",
    "display_winners(prof, split_cycle_faster)\n",
    "## Uncomment for Ranked Pairs winner (Warning: takes a really long time!)\n",
    "#display_winners(prof, ranked_pairs)\n",
    "display_winners(prof, beat_path_faster)\n",
    "display_winners(prof, minimax)\n",
    "display_winners(prof, getcha)\n",
    "display_winners(prof, gocha)\n",
    "display_winners(prof, hare)\n",
    "display_winners(prof, plurality)\n",
    "\n"
   ]
  },
  {
   "cell_type": "code",
   "execution_count": null,
   "metadata": {},
   "outputs": [],
   "source": []
  },
  {
   "cell_type": "code",
   "execution_count": null,
   "metadata": {},
   "outputs": [],
   "source": []
  }
 ],
 "metadata": {
  "@webio": {
   "lastCommId": null,
   "lastKernelId": null
  },
  "kernelspec": {
   "display_name": "Python 3",
   "language": "python",
   "name": "python3"
  },
  "language_info": {
   "codemirror_mode": {
    "name": "ipython",
    "version": 3
   },
   "file_extension": ".py",
   "mimetype": "text/x-python",
   "name": "python",
   "nbconvert_exporter": "python",
   "pygments_lexer": "ipython3",
   "version": "3.8.5"
  },
  "varInspector": {
   "cols": {
    "lenName": 16,
    "lenType": 16,
    "lenVar": 40
   },
   "kernels_config": {
    "python": {
     "delete_cmd_postfix": "",
     "delete_cmd_prefix": "del ",
     "library": "var_list.py",
     "varRefreshCmd": "print(var_dic_list())"
    },
    "r": {
     "delete_cmd_postfix": ") ",
     "delete_cmd_prefix": "rm(",
     "library": "var_list.r",
     "varRefreshCmd": "cat(var_dic_list()) "
    }
   },
   "types_to_exclude": [
    "module",
    "function",
    "builtin_function_or_method",
    "instance",
    "_Feature"
   ],
   "window_display": false
  }
 },
 "nbformat": 4,
 "nbformat_minor": 2
}
